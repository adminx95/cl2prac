{
 "cells": [
  {
   "cell_type": "markdown",
   "id": "1261f853-2b3a-4739-af88-7adaab05e22e",
   "metadata": {},
   "source": [
    "Write a program for pre-processing such as stop word removal stemming"
   ]
  },
  {
   "cell_type": "code",
   "execution_count": 4,
   "id": "720760a4-de91-4072-aab3-25aa886e1abb",
   "metadata": {},
   "outputs": [],
   "source": [
    "text='Quick brown fox jumps over lazy dog sleeps the fox quickly runs to the nearby forest'"
   ]
  },
  {
   "cell_type": "code",
   "execution_count": 5,
   "id": "9bd4d2ac-95e0-4a4c-b180-88fa4db9515c",
   "metadata": {},
   "outputs": [],
   "source": [
    "from nltk.corpus import stopwords"
   ]
  },
  {
   "cell_type": "code",
   "execution_count": 3,
   "id": "81397ab6-9a74-45fd-bb72-057ce1be2e62",
   "metadata": {},
   "outputs": [],
   "source": [
    "Stopwords=stopwords.words('english')"
   ]
  },
  {
   "cell_type": "code",
   "execution_count": 6,
   "id": "e282e685-7005-490d-b624-11a68173f553",
   "metadata": {},
   "outputs": [],
   "source": [
    "text=text.lower()"
   ]
  },
  {
   "cell_type": "code",
   "execution_count": 7,
   "id": "0243656b-a3f2-472c-9ec3-5ebc24d1988b",
   "metadata": {},
   "outputs": [],
   "source": [
    "text_wo_sw=' '.join([word for word in text.split(' ') if word not in Stopwords]) "
   ]
  },
  {
   "cell_type": "code",
   "execution_count": 8,
   "id": "97f710f2-e08f-43df-b7b3-65343467c9da",
   "metadata": {},
   "outputs": [
    {
     "data": {
      "text/plain": [
       "'quick brown fox jumps lazy dog sleeps fox quickly runs nearby forest'"
      ]
     },
     "execution_count": 8,
     "metadata": {},
     "output_type": "execute_result"
    }
   ],
   "source": [
    "text_wo_sw"
   ]
  },
  {
   "cell_type": "code",
   "execution_count": 9,
   "id": "ff6e1b67-c4ed-4afb-bd8a-3006460b257c",
   "metadata": {},
   "outputs": [],
   "source": [
    "from nltk import PorterStemmer"
   ]
  },
  {
   "cell_type": "code",
   "execution_count": 11,
   "id": "b5d576a1-f7f4-4d12-af43-3ce72a663668",
   "metadata": {},
   "outputs": [
    {
     "data": {
      "text/plain": [
       "'quick brown fox jump lazi dog sleep fox quickli run nearbi forest'"
      ]
     },
     "execution_count": 11,
     "metadata": {},
     "output_type": "execute_result"
    }
   ],
   "source": [
    "stemmed_text = ' '.join([PorterStemmer().stem(word) for word in text_wo_sw.split(' ')])\n",
    "stemmed_text"
   ]
  },
  {
   "cell_type": "code",
   "execution_count": null,
   "id": "bc2aa833-8bac-4560-8969-165c5f7aeccd",
   "metadata": {},
   "outputs": [],
   "source": []
  }
 ],
 "metadata": {
  "kernelspec": {
   "display_name": "Python 3 (ipykernel)",
   "language": "python",
   "name": "python3"
  },
  "language_info": {
   "codemirror_mode": {
    "name": "ipython",
    "version": 3
   },
   "file_extension": ".py",
   "mimetype": "text/x-python",
   "name": "python",
   "nbconvert_exporter": "python",
   "pygments_lexer": "ipython3",
   "version": "3.12.1"
  }
 },
 "nbformat": 4,
 "nbformat_minor": 5
}
