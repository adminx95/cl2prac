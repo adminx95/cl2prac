{
 "cells": [
  {
   "cell_type": "code",
   "execution_count": 1,
   "id": "37fd4280-0335-44ef-b87c-43d2e02bf35a",
   "metadata": {},
   "outputs": [],
   "source": [
    "import hashlib  # For hashing to ensure data integrity\n",
    "from cryptography.fernet import Fernet  # For encryption\n",
    "import random  # For simulating sensor data\n",
    "import numpy as np"
   ]
  },
  {
   "cell_type": "code",
   "execution_count": 2,
   "id": "a9c779f5-fe84-420f-af80-aecda393c73c",
   "metadata": {},
   "outputs": [],
   "source": [
    "key = Fernet.generate_key()\n",
    "cipher = Fernet(key)"
   ]
  },
  {
   "cell_type": "code",
   "execution_count": 3,
   "id": "378b907b-396b-4438-b153-74a26d8a7bcc",
   "metadata": {},
   "outputs": [
    {
     "name": "stdout",
     "output_type": "stream",
     "text": [
      "Original Temperature :  44\n"
     ]
    }
   ],
   "source": [
    "temp = np.random.randint(30,60)\n",
    "print(\"Original Temperature : \", temp)"
   ]
  },
  {
   "cell_type": "code",
   "execution_count": 4,
   "id": "19f5d75c-877c-4175-862c-99e41b178946",
   "metadata": {},
   "outputs": [
    {
     "name": "stdout",
     "output_type": "stream",
     "text": [
      "Encrypted Temperature:  b'gAAAAABnK5FVo9hYA-QIHKoSWI1vene-5-hL-KNdgf-ApW6xPYtI9qVoJfYuMQJnesg3_U1XlQ7nHIYYp0RbhEdAolcwUNSvdw=='\n"
     ]
    }
   ],
   "source": [
    "enc = cipher.encrypt(str(temp).encode())\n",
    "print(\"Encrypted Temperature: \",enc)"
   ]
  },
  {
   "cell_type": "code",
   "execution_count": 5,
   "id": "ade479a9-a8b7-4e72-b13e-58ac470d0985",
   "metadata": {},
   "outputs": [
    {
     "name": "stdout",
     "output_type": "stream",
     "text": [
      "Decrypted Temperature:  44\n"
     ]
    }
   ],
   "source": [
    "dec = cipher.decrypt(enc).decode()\n",
    "print(\"Decrypted Temperature: \",dec)"
   ]
  },
  {
   "cell_type": "code",
   "execution_count": 6,
   "id": "ea08451c-d3c3-4a78-af5f-83e0cb3bf5e0",
   "metadata": {},
   "outputs": [
    {
     "name": "stdout",
     "output_type": "stream",
     "text": [
      "Data Integrity is verified\n"
     ]
    }
   ],
   "source": [
    "original_hash = hash(str(temp))\n",
    "decrypted_hash = hash(dec)\n",
    "\n",
    "if original_hash == decrypted_hash:\n",
    "    print(\"Data Integrity is verified\")\n",
    "else:\n",
    "    print(\"Data Integrity is not verified\")"
   ]
  },
  {
   "cell_type": "code",
   "execution_count": null,
   "id": "90e5698c-615a-4972-955d-9bc8e6309cd7",
   "metadata": {},
   "outputs": [],
   "source": []
  }
 ],
 "metadata": {
  "kernelspec": {
   "display_name": "Python 3 (ipykernel)",
   "language": "python",
   "name": "python3"
  },
  "language_info": {
   "codemirror_mode": {
    "name": "ipython",
    "version": 3
   },
   "file_extension": ".py",
   "mimetype": "text/x-python",
   "name": "python",
   "nbconvert_exporter": "python",
   "pygments_lexer": "ipython3",
   "version": "3.12.1"
  }
 },
 "nbformat": 4,
 "nbformat_minor": 5
}
