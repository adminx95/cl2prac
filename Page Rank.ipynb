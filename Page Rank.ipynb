{
 "cells": [
  {
   "cell_type": "code",
   "execution_count": 1,
   "id": "03150bd5-93da-434b-892c-a499e85cad65",
   "metadata": {},
   "outputs": [],
   "source": [
    "import numpy as np"
   ]
  },
  {
   "cell_type": "code",
   "execution_count": 2,
   "id": "4cb2384d-09ec-495e-a2bd-d08e71d01121",
   "metadata": {},
   "outputs": [],
   "source": [
    "def page_rank(graph, num_iterations=100, d=0.85):\n",
    "    num_pages = len(graph)\n",
    "    # Initialize PageRank values\n",
    "    pagerank = np.ones(num_pages) / num_pages\n",
    "    \n",
    "    # Create the transition matrix\n",
    "    transition_matrix = np.zeros((num_pages, num_pages))\n",
    "    for i in range(num_pages):\n",
    "        links = np.where(graph[i])[0]\n",
    "        if len(links) > 0:\n",
    "            transition_matrix[links, i] = 1 / len(links)\n",
    "    \n",
    "    # Iterative PageRank computation\n",
    "    for _ in range(num_iterations):\n",
    "        pagerank = (1 - d) / num_pages + d * np.dot(transition_matrix, pagerank)\n",
    "    \n",
    "    return pagerank"
   ]
  },
  {
   "cell_type": "code",
   "execution_count": 3,
   "id": "80ba2ac4-ede6-4809-87ce-b1194f372840",
   "metadata": {},
   "outputs": [],
   "source": [
    "# Example usage\n",
    "# Graph represented as an adjacency matrix\n",
    "graph = np.array([\n",
    "    [0, 1, 1, 0],\n",
    "    [0, 0, 1, 0],\n",
    "    [1, 0, 0, 1],\n",
    "    [0, 0, 1, 0]\n",
    "])"
   ]
  },
  {
   "cell_type": "code",
   "execution_count": 4,
   "id": "1150aa71-06fa-42fc-8542-df99924af76f",
   "metadata": {},
   "outputs": [
    {
     "name": "stdout",
     "output_type": "stream",
     "text": [
      "[0.21991382 0.13096337 0.42920899 0.21991382]\n"
     ]
    }
   ],
   "source": [
    "pagerank = page_rank(graph)\n",
    "print(pagerank)"
   ]
  },
  {
   "cell_type": "code",
   "execution_count": null,
   "id": "ef0ad3d0-1a6d-481d-8ce6-6c4b303ca51b",
   "metadata": {},
   "outputs": [],
   "source": []
  }
 ],
 "metadata": {
  "kernelspec": {
   "display_name": "Python 3 (ipykernel)",
   "language": "python",
   "name": "python3"
  },
  "language_info": {
   "codemirror_mode": {
    "name": "ipython",
    "version": 3
   },
   "file_extension": ".py",
   "mimetype": "text/x-python",
   "name": "python",
   "nbconvert_exporter": "python",
   "pygments_lexer": "ipython3",
   "version": "3.12.1"
  }
 },
 "nbformat": 4,
 "nbformat_minor": 5
}
