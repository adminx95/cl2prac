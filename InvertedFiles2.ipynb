{
 "cells": [
  {
   "cell_type": "code",
   "execution_count": 1,
   "id": "a60e5ec2-7f14-41f8-bdc9-5f4525f81253",
   "metadata": {},
   "outputs": [],
   "source": [
    "import json"
   ]
  },
  {
   "cell_type": "code",
   "execution_count": 2,
   "id": "25154ee0-71e0-4edd-875a-fb0e5eccb2fe",
   "metadata": {},
   "outputs": [],
   "source": [
    "docs={\n",
    "    \"doc1\" : [\"mango\",\"apple\",\"grapes\"],\n",
    "    \"doc2\": [\"peas\",\"mango\"],\n",
    "    \"doc3\": [\"mango\",\"grapes\",\"peas\"],\n",
    "    \"doc4\": [\"apple\",\"grapes\"]\n",
    "}"
   ]
  },
  {
   "cell_type": "code",
   "execution_count": 5,
   "id": "c3b852f5-423c-4a05-bde1-c9e29b2a2d5b",
   "metadata": {},
   "outputs": [],
   "source": [
    "inverted_files={}"
   ]
  },
  {
   "cell_type": "code",
   "execution_count": 6,
   "id": "f9c87e7e-1651-47a0-872a-f60038b2aeaf",
   "metadata": {},
   "outputs": [],
   "source": [
    "# Build the inverted index\n",
    "for doc, fruits in docs.items():\n",
    "    for fruit in fruits:\n",
    "        # Check if the fruit is already a key in inverted_files\n",
    "        if fruit not in inverted_files:\n",
    "            inverted_files[fruit] = [doc]  # Initialize with the current doc\n",
    "        else:\n",
    "            inverted_files[fruit].append(doc)  # Append the doc to the list"
   ]
  },
  {
   "cell_type": "code",
   "execution_count": 7,
   "id": "d67805f3-7587-4ab7-8347-5aa64106247a",
   "metadata": {},
   "outputs": [
    {
     "name": "stdout",
     "output_type": "stream",
     "text": [
      "Inverted FIles :\n",
      "{\n",
      "    \"mango\": [\n",
      "        \"doc1\",\n",
      "        \"doc2\",\n",
      "        \"doc3\"\n",
      "    ],\n",
      "    \"apple\": [\n",
      "        \"doc1\",\n",
      "        \"doc4\"\n",
      "    ],\n",
      "    \"grapes\": [\n",
      "        \"doc1\",\n",
      "        \"doc3\",\n",
      "        \"doc4\"\n",
      "    ],\n",
      "    \"peas\": [\n",
      "        \"doc2\",\n",
      "        \"doc3\"\n",
      "    ]\n",
      "}\n"
     ]
    }
   ],
   "source": [
    "print('Inverted FIles :')\n",
    "print(json.dumps(inverted_files,indent=4))"
   ]
  },
  {
   "cell_type": "code",
   "execution_count": null,
   "id": "6e251654-a36f-4a64-8921-0378969d8edf",
   "metadata": {},
   "outputs": [],
   "source": []
  },
  {
   "cell_type": "code",
   "execution_count": null,
   "id": "952e2bcb-5439-467b-b1c8-f2373d978ccb",
   "metadata": {},
   "outputs": [],
   "source": []
  }
 ],
 "metadata": {
  "kernelspec": {
   "display_name": "Python 3 (ipykernel)",
   "language": "python",
   "name": "python3"
  },
  "language_info": {
   "codemirror_mode": {
    "name": "ipython",
    "version": 3
   },
   "file_extension": ".py",
   "mimetype": "text/x-python",
   "name": "python",
   "nbconvert_exporter": "python",
   "pygments_lexer": "ipython3",
   "version": "3.12.1"
  }
 },
 "nbformat": 4,
 "nbformat_minor": 5
}
